{
 "cells": [
  {
   "cell_type": "markdown",
   "metadata": {
    "editable": true
   },
   "source": [
    "# Part I. ETL Pipeline for Pre-Processing the Files"
   ]
  },
  {
   "cell_type": "markdown",
   "metadata": {
    "editable": true
   },
   "source": [
    "## PLEASE RUN THE FOLLOWING CODE FOR PRE-PROCESSING THE FILES"
   ]
  },
  {
   "cell_type": "markdown",
   "metadata": {
    "editable": true
   },
   "source": [
    "#### Import Python packages "
   ]
  },
  {
   "cell_type": "code",
   "execution_count": 1,
   "metadata": {
    "editable": true
   },
   "outputs": [],
   "source": [
    "# Import Python packages \n",
    "import pandas as pd\n",
    "import cassandra\n",
    "import re\n",
    "import os\n",
    "import glob\n",
    "import numpy as np\n",
    "import json\n",
    "import csv"
   ]
  },
  {
   "cell_type": "markdown",
   "metadata": {
    "editable": true
   },
   "source": [
    "#### Creating list of filepaths to process original event csv data files"
   ]
  },
  {
   "cell_type": "code",
   "execution_count": 2,
   "metadata": {
    "editable": true
   },
   "outputs": [
    {
     "name": "stdout",
     "output_type": "stream",
     "text": [
      "/home/workspace\n"
     ]
    }
   ],
   "source": [
    "# checking your current working directory\n",
    "print(os.getcwd())\n",
    "\n",
    "# Get your current folder and subfolder event data\n",
    "filepath = os.getcwd() + '/event_data'\n",
    "\n",
    "# Create a for loop to create a list of files and collect each filepath\n",
    "for root, dirs, files in os.walk(filepath):\n",
    "    \n",
    "# join the file path and roots with the subdirectories using glob\n",
    "    file_path_list = glob.glob(os.path.join(root,'*'))\n",
    "    #print(file_path_list)"
   ]
  },
  {
   "cell_type": "markdown",
   "metadata": {
    "editable": true
   },
   "source": [
    "#### Processing the files to create the data file csv that will be used for Apache Casssandra tables"
   ]
  },
  {
   "cell_type": "code",
   "execution_count": 3,
   "metadata": {
    "editable": true
   },
   "outputs": [],
   "source": [
    "# initiating an empty list of rows that will be generated from each file\n",
    "full_data_rows_list = [] \n",
    "    \n",
    "# for every filepath in the file path list \n",
    "for f in file_path_list:\n",
    "\n",
    "# reading csv file \n",
    "    with open(f, 'r', encoding = 'utf8', newline='') as csvfile: \n",
    "        # creating a csv reader object \n",
    "        csvreader = csv.reader(csvfile) \n",
    "        next(csvreader)\n",
    "        \n",
    " # extracting each data row one by one and append it        \n",
    "        for line in csvreader:\n",
    "            #print(line)\n",
    "            full_data_rows_list.append(line) \n",
    "            \n",
    "# uncomment the code below if you would like to get total number of rows \n",
    "#print(len(full_data_rows_list))\n",
    "# uncomment the code below if you would like to check to see what the list of event data rows will look like\n",
    "#print(full_data_rows_list)\n",
    "\n",
    "# creating a smaller event data csv file called event_datafile_full csv that will be used to insert data into the \\\n",
    "# Apache Cassandra tables\n",
    "csv.register_dialect('myDialect', quoting=csv.QUOTE_ALL, skipinitialspace=True)\n",
    "\n",
    "with open('event_datafile_new.csv', 'w', encoding = 'utf8', newline='') as f:\n",
    "    writer = csv.writer(f, dialect='myDialect')\n",
    "    writer.writerow(['artist','firstName','gender','itemInSession','lastName','length',\\\n",
    "                'level','location','sessionId','song','userId'])\n",
    "    for row in full_data_rows_list:\n",
    "        if (row[0] == ''):\n",
    "            continue\n",
    "        writer.writerow((row[0], row[2], row[3], row[4], row[5], row[6], row[7], row[8], row[12], row[13], row[16]))\n"
   ]
  },
  {
   "cell_type": "code",
   "execution_count": 4,
   "metadata": {
    "editable": true
   },
   "outputs": [
    {
     "name": "stdout",
     "output_type": "stream",
     "text": [
      "6821\n"
     ]
    }
   ],
   "source": [
    "# check the number of rows in your csv file\n",
    "with open('event_datafile_new.csv', 'r', encoding = 'utf8') as f:\n",
    "    print(sum(1 for line in f))"
   ]
  },
  {
   "cell_type": "markdown",
   "metadata": {
    "editable": true
   },
   "source": [
    "# Part II. Complete the Apache Cassandra coding portion of your project. \n",
    "\n",
    "## Now you are ready to work with the CSV file titled <font color=red>event_datafile_new.csv</font>, located within the Workspace directory.  The event_datafile_new.csv contains the following columns: \n",
    "- artist \n",
    "- firstName of user\n",
    "- gender of user\n",
    "- item number in session\n",
    "- last name of user\n",
    "- length of the song\n",
    "- level (paid or free song)\n",
    "- location of the user\n",
    "- sessionId\n",
    "- song title\n",
    "- userId\n",
    "\n",
    "The image below is a screenshot of what the denormalized data should appear like in the <font color=red>**event_datafile_new.csv**</font> after the code above is run:<br>\n",
    "\n",
    "<img src=\"images/image_event_datafile_new.jpg\">"
   ]
  },
  {
   "cell_type": "markdown",
   "metadata": {
    "editable": true
   },
   "source": [
    "## Begin writing your Apache Cassandra code in the cells below"
   ]
  },
  {
   "cell_type": "markdown",
   "metadata": {
    "editable": true
   },
   "source": [
    "#### Creating a Cluster"
   ]
  },
  {
   "cell_type": "code",
   "execution_count": 16,
   "metadata": {
    "editable": true
   },
   "outputs": [],
   "source": [
    "# This should make a connection to a Cassandra instance your local machine \n",
    "# (127.0.0.1)\n",
    "\n",
    "from cassandra.cluster import Cluster\n",
    "cluster = Cluster()\n",
    "\n",
    "# To establish connection and begin executing queries, need a session\n",
    "session = cluster.connect()"
   ]
  },
  {
   "cell_type": "markdown",
   "metadata": {
    "editable": true
   },
   "source": [
    "#### Create Keyspace"
   ]
  },
  {
   "cell_type": "code",
   "execution_count": 17,
   "metadata": {
    "editable": true
   },
   "outputs": [],
   "source": [
    "#Creating a Keyspace \n",
    "try:\n",
    "    session.execute(\"\"\"\n",
    "    CREATE KEYSPACE IF NOT EXISTS udacity \n",
    "    WITH REPLICATION = \n",
    "    { 'class' : 'SimpleStrategy', 'replication_factor' : 1 }\"\"\"\n",
    ")\n",
    "\n",
    "except Exception as e:\n",
    "    print(e)"
   ]
  },
  {
   "cell_type": "markdown",
   "metadata": {
    "editable": true
   },
   "source": [
    "#### Set Keyspace"
   ]
  },
  {
   "cell_type": "code",
   "execution_count": 18,
   "metadata": {
    "editable": true
   },
   "outputs": [],
   "source": [
    "# Setting a Keyspace\n",
    "try:\n",
    "    session.set_keyspace('udacity')\n",
    "except Exception as e:\n",
    "    print(e)\n"
   ]
  },
  {
   "cell_type": "markdown",
   "metadata": {
    "editable": true
   },
   "source": [
    "### Now we need to create tables to run the following queries. Remember, with Apache Cassandra you model the database tables on the queries you want to run."
   ]
  },
  {
   "cell_type": "markdown",
   "metadata": {
    "editable": true
   },
   "source": [
    "## Create queries to ask the following three questions of the data\n",
    "\n",
    "### 1. Give me the artist, song title and song's length in the music app history that was heard during  sessionId = 338, and itemInSession  = 4\n",
    "\n",
    "\n",
    "### 2. Give me only the following: name of artist, song (sorted by itemInSession) and user (first and last name) for userid = 10, sessionid = 182\n",
    "    \n",
    "\n",
    "### 3. Give me every user name (first and last) in my music app history who listened to the song 'All Hands Against His Own'\n",
    "\n",
    "\n"
   ]
  },
  {
   "cell_type": "code",
   "execution_count": 21,
   "metadata": {
    "editable": true
   },
   "outputs": [],
   "source": [
    "#Creating table musicl library\n",
    "\n",
    "query = \"CREATE TABLE IF NOT EXISTS music_library\"\n",
    "query = query + \"(sessionId int, itemInSession int, artist text, song_title text, song_length float, PRIMARY KEY(sessionId, itemInSession))\"\n",
    "try:\n",
    "    session.execute(query)\n",
    "except Exception as e:\n",
    "    print(e)\n",
    "\n",
    "    \n",
    "\n",
    "                    "
   ]
  },
  {
   "cell_type": "code",
   "execution_count": 22,
   "metadata": {
    "editable": true
   },
   "outputs": [],
   "source": [
    "# We have provided part of the code to set up the CSV file. Please complete the Apache Cassandra code below#\n",
    "file = 'event_datafile_new.csv'\n",
    "\n",
    "with open(file, encoding = 'utf8') as f:\n",
    "    csvreader = csv.reader(f)\n",
    "    next(csvreader) # skip header\n",
    "    for line in csvreader:\n",
    "## INSERTing the values into music_library\n",
    "        query = \"INSERT INTO music_library ( sessionId, itemInSession,artist,song_title,song_length) \"\n",
    "        query = query + \"VALUES(%s,%s,%s,%s,%s)\"\n",
    "        ##Here we assing the line of the csv file into our columns on our DB`\n",
    "        session.execute(query, (int(line[8]), int(line[3]),line[0],line[9],float(line[5])))"
   ]
  },
  {
   "cell_type": "markdown",
   "metadata": {
    "editable": true
   },
   "source": [
    "#### Do a SELECT to verify that the data have been inserted into each table"
   ]
  },
  {
   "cell_type": "code",
   "execution_count": 23,
   "metadata": {
    "editable": true,
    "scrolled": true
   },
   "outputs": [
    {
     "name": "stdout",
     "output_type": "stream",
     "text": [
      "338 4 Faithless Music Matters (Mark Knight Dub) 495.30731201171875\n"
     ]
    }
   ],
   "source": [
    "## Select query that finds all artist,song titles, song lenghts where session id = 338 and itemsession 4 \n",
    "query = \"SELECT artist,song_title,song_length,sessionId,itemInSession from music_library where sessionId =338 and itemInSession = 4\"\n",
    "try:\n",
    "    rows = session.execute(query)\n",
    "except Exception as e:\n",
    "    print(e)\n",
    "    \n",
    "for row in rows:\n",
    "    print (row.sessionid,row.iteminsession,row.artist,row.song_title,row.song_length)"
   ]
  },
  {
   "cell_type": "markdown",
   "metadata": {
    "editable": true
   },
   "source": [
    "### COPY AND REPEAT THE ABOVE THREE CELLS FOR EACH OF THE THREE QUESTIONS"
   ]
  },
  {
   "cell_type": "code",
   "execution_count": 24,
   "metadata": {
    "editable": true
   },
   "outputs": [
    {
     "name": "stdout",
     "output_type": "stream",
     "text": [
      "<Error from server: code=2000 [Syntax error in CQL query] message=\"line 1:194 mismatched input ')' expecting EOF (...userId, sessionId), itemInSession))[)])\">\n"
     ]
    }
   ],
   "source": [
    "## Creating new table artist_library\n",
    "\n",
    "query = \"CREATE TABLE IF NOT EXISTS artist_library\"\n",
    "query = query + \"(userId int, sessionId int, artist_name text,song text,itemInSession int,firstName text,lastName text, PRIMARY KEY ( (userId, sessionId), itemInSession))\"\n",
    "try:\n",
    "    session.execute(query)\n",
    "except Exception as e:\n",
    "    print(e)\n"
   ]
  },
  {
   "cell_type": "code",
   "execution_count": 12,
   "metadata": {
    "editable": true
   },
   "outputs": [],
   "source": [
    "# We have provided part of the code to set up the CSV file. Please complete the Apache Cassandra code below#\n",
    "file = 'event_datafile_new.csv'\n",
    "\n",
    "with open(file, encoding = 'utf8') as f:\n",
    "    csvreader = csv.reader(f)\n",
    "    next(csvreader) # skip header\n",
    "    for line in csvreader:\n",
    "## INSERTing the values into music_library\n",
    "        query = \"INSERT INTO artist_library (userId,sessionId,artist_name,song, itemInSession,firstName,lastName) \"\n",
    "        query = query + \"VALUES(%s,%s,%s,%s,%s,%s,%s)\"\n",
    "        ##Here we assing the line of the csv file into our columns on our DB\n",
    "        session.execute(query, (int(line[10]), int(line[8]),line[0],line[9],int(line[3]),line[1],line[4]))"
   ]
  },
  {
   "cell_type": "code",
   "execution_count": 14,
   "metadata": {
    "editable": true
   },
   "outputs": [
    {
     "name": "stdout",
     "output_type": "stream",
     "text": [
      "Erin Bode Here_ There And Everywhere Jacob Klein\n",
      "Lionel Richie Hello Jacob Klein\n",
      "Datarock True Stories Jacob Klein\n",
      "Metallica Master Of Puppets Jacob Klein\n",
      "Drake / Kanye West / Lil Wayne / Eminem Forever Jacob Klein\n",
      "Vanity Fare Early In The Morning Jacob Klein\n",
      "Lighter Shade of Brown Homies Jacob Klein\n",
      "Emmy The Great Mia Jacob Klein\n",
      "B.o.B Nothin' On You [feat. Bruno Mars] (Album Version) Jacob Klein\n",
      "Bikini Kill Reject All American Jacob Klein\n",
      "Jake Hess You And Me Jesus Jacob Klein\n",
      "Collective Soul Reunion (LP Version) Jacob Klein\n",
      "The Black Keys Every Lasting Light Jacob Klein\n",
      "Che Sudaka Bihotza Jacob Klein\n",
      "Aloe Blacc I Need A Dollar Jacob Klein\n",
      "Big Tymers / Gotti / TQ / Mikkey Sunny Day Jacob Klein\n",
      "Arctic Monkeys From The Ritz To The Rubble Jacob Klein\n",
      "The Mars Volta With Twilight as My Guide Jacob Klein\n",
      "Jets To Brazil Cat Heaven Jacob Klein\n",
      "The Knife Silent Shout Jacob Klein\n",
      "Benjy Ferree Fear Jacob Klein\n",
      "Onra TAKE A RIDE Jacob Klein\n",
      "The Black Crowes Mellow Down Easy Jacob Klein\n",
      "Molotov Frijolero Jacob Klein\n",
      "Aqua Doctor Jones Jacob Klein\n",
      "Kinky Soun Tha Mi Primer Amor Jacob Klein\n",
      "Three Drives Greece 2000 Jacob Klein\n",
      "Barry Tuckwell/Academy of St Martin-in-the-Fields/Sir Neville Marriner Horn Concerto No. 4 in E flat K495: II. Romance (Andante cantabile) Jacob Klein\n",
      "Pepper Blackout Jacob Klein\n",
      "Thee Silver Mountain Reveries Microphones in the Trees Jacob Klein\n",
      "Colbie Caillat I Never Told You Jacob Klein\n",
      "Fat Freddys Drop The Raft Jacob Klein\n"
     ]
    }
   ],
   "source": [
    "## Getting name of artist, song (sorted by itemInSession) and user (first and last name)\\\n",
    "## for userid = 73, sessionid = 152\n",
    "query = \"SELECT artist_name,song,firstName,lastName from artist_library where sessionId = 518 and userId = 73 Allow filtering \"\n",
    "try:\n",
    "    rows = session.execute(query)\n",
    "except Exception as e:\n",
    "    print(e)\n",
    "    \n",
    "for row in rows:\n",
    "    print (row.artist_name, row.song,row.firstname,row.lastname)"
   ]
  },
  {
   "cell_type": "code",
   "execution_count": null,
   "metadata": {
    "editable": true
   },
   "outputs": [],
   "source": [
    "## Creating user_table\n",
    "\n",
    "query = \"CREATE TABLE IF NOT EXISTS user_table\"\n",
    "query = query + \"(userId int, firstName text, lastName text, song text, PRIMARY KEY (song,userId))\"\n",
    "try:\n",
    "    session.execute(query)\n",
    "except Exception as e:\n",
    "    print(e)      "
   ]
  },
  {
   "cell_type": "code",
   "execution_count": null,
   "metadata": {
    "editable": true
   },
   "outputs": [],
   "source": [
    "# We have provided part of the code to set up the CSV file. Please complete the Apache Cassandra code below#\n",
    "file = 'event_datafile_new.csv'\n",
    "\n",
    "with open(file, encoding = 'utf8') as f:\n",
    "    csvreader = csv.reader(f)\n",
    "    next(csvreader) # skip header\n",
    "    for line in csvreader:\n",
    "## INSERTing the values into music_library\n",
    "        query = \"INSERT INTO table_final ( userId,firstName,lastName,song) \"\n",
    "        query = query + \"VALUES(%s,%s,%s,%s)\"\n",
    "        ##Here we assing the line of the csv file into our columns on our DB\n",
    "        session.execute(query, (int(line[10]),line[1],line[4],line[9]))"
   ]
  },
  {
   "cell_type": "code",
   "execution_count": 224,
   "metadata": {
    "editable": true
   },
   "outputs": [
    {
     "name": "stdout",
     "output_type": "stream",
     "text": [
      "Row(userid=23, firstname='Morris', lastname='Gilmore', song='Just Lose It')\n",
      "Row(userid=53, firstname='Celeste', lastname='Williams', song='Fireflies')\n",
      "Row(userid=91, firstname='Jayden', lastname='Bell', song='Spin Spin Sugar')\n",
      "Row(userid=55, firstname='Martin', lastname='Johnson', song='Bitter Sweet Symphony')\n",
      "Row(userid=33, firstname='Bronson', lastname='Harris', song='In This World')\n",
      "Row(userid=5, firstname='Elijah', lastname='Davis', song='Anything You Say (Unreleased Version)')\n",
      "Row(userid=28, firstname='Brantley', lastname='West', song=\"Day 'N' Nite\")\n",
      "Row(userid=42, firstname='Harper', lastname='Barrett', song='Microdaze')\n",
      "Row(userid=50, firstname='Ava', lastname='Robinson', song='Unfamiliar Faces')\n",
      "Row(userid=95, firstname='Sara', lastname='Johnson', song='Sunday Morning')\n",
      "Row(userid=88, firstname='Mohammad', lastname='Rodriguez', song='Never Leave Me Alone')\n",
      "Row(userid=82, firstname='Avery', lastname='Martinez', song='DÃ\\x83Â\\xadmelo')\n",
      "Row(userid=49, firstname='Chloe', lastname='Cuevas', song='To Them These Streets Belong')\n",
      "Row(userid=10, firstname='Sylvie', lastname='Cruz', song=\"God's Snake\")\n",
      "Row(userid=83, firstname='Stefany', lastname='White', song='Catch You Baby (Steve Pitron & Max Sanna Radio Edit)')\n",
      "Row(userid=60, firstname='Devin', lastname='Larson', song='Too Late For Goodbyes')\n",
      "Row(userid=67, firstname='Colm', lastname='Santana', song='Sweat the Battle Before the Battle Sweats You (Album Version)')\n",
      "Row(userid=79, firstname='James', lastname='Martin', song='Provider (Remix Radio Edit)')\n",
      "Row(userid=16, firstname='Rylan', lastname='George', song='Kids In America')\n",
      "Row(userid=63, firstname='Ayla', lastname='Johnson', song='Sin Coro')\n",
      "Row(userid=80, firstname='Tegan', lastname='Levine', song='Thinking Of You')\n",
      "Row(userid=13, firstname='Ava', lastname='Robinson', song='Invalid')\n",
      "Row(userid=30, firstname='Avery', lastname='Watkins', song='Snow [Hey Oh] (Album Version)')\n",
      "Row(userid=72, firstname='Hayden', lastname='Brock', song='Teach Me How To Dougie')\n",
      "Row(userid=99, firstname='Ann', lastname='Banks', song='Never Give You Up')\n",
      "Row(userid=11, firstname='Christian', lastname='Porter', song='Rehab')\n",
      "Row(userid=19, firstname='Zachary', lastname='Thomas', song='Society')\n",
      "Row(userid=61, firstname='Samuel', lastname='Gonzalez', song='Drugs Or Me')\n",
      "Row(userid=43, firstname='Jahiem', lastname='Miles', song='Heartstrings')\n",
      "Row(userid=8, firstname='Kaylee', lastname='Summers', song='Once again')\n",
      "Row(userid=52, firstname='Theodore', lastname='Smith', song=\"Night Dreamin'\")\n",
      "Row(userid=2, firstname='Jizelle', lastname='Benjamin', song='Pet Semetary')\n",
      "Row(userid=45, firstname='Dominick', lastname='Norris', song='She Is Love')\n",
      "Row(userid=73, firstname='Jacob', lastname='Klein', song='Forever')\n",
      "Row(userid=4, firstname='Alivia', lastname='Terrell', song='Bracelets (LP Version)')\n",
      "Row(userid=18, firstname='Jacob', lastname='Rogers', song='Talullah')\n",
      "Row(userid=51, firstname='Maia', lastname='Burke', song='Jewels And Gold')\n",
      "Row(userid=47, firstname='Kimber', lastname='Norris', song='Leave It All To Me (Theme from iCarly)')\n",
      "Row(userid=84, firstname='Shakira', lastname='Hunt', song='Tuesday Afternoon')\n",
      "Row(userid=94, firstname='Noah', lastname='Chavez', song='Bend & Flush')\n",
      "Row(userid=74, firstname='Braden', lastname='Parker', song=\"Fallin' Apart\")\n",
      "Row(userid=44, firstname='Aleena', lastname='Kirby', song='Eyes As Candles')\n",
      "Row(userid=96, firstname='Cierra', lastname='Finley', song='Fireflies')\n",
      "Row(userid=69, firstname='Anabelle', lastname='Simpson', song='God & Satan')\n",
      "Row(userid=15, firstname='Lily', lastname='Koch', song='St. Elsewhere')\n",
      "Row(userid=22, firstname='Sean', lastname='Wilson', song='The Ugly One (AKA Lee Van Cleef)')\n",
      "Row(userid=98, firstname='Jordyn', lastname='Powell', song='One More Sad Song')\n",
      "Row(userid=54, firstname='Kaleb', lastname='Cook', song='Hey There Delilah')\n",
      "Row(userid=75, firstname='Joseph', lastname='Gutierrez', song='Supreme Balloon')\n",
      "Row(userid=58, firstname='Emily', lastname='Benson', song='Damaged Goods')\n",
      "Row(userid=86, firstname='Aiden', lastname='Hess', song='Curura')\n",
      "Row(userid=89, firstname='Kynnedi', lastname='Sanchez', song=\"That's My Home\")\n",
      "Row(userid=78, firstname='Chloe', lastname='Roth', song='Good Bye Emily (feat. Gabriella Hanninen)')\n",
      "Row(userid=27, firstname='Carlos', lastname='Carter', song='Eenie Meenie')\n",
      "Row(userid=59, firstname='Lily', lastname='Cooper', song='Higinia (Album Version)')\n",
      "Row(userid=20, firstname='Aiden', lastname='Ramirez', song='ObservÃ\\x83Â¡ndonos (SatÃ\\x83Â©lites)')\n",
      "Row(userid=7, firstname='Adelyn', lastname='Jordan', song='Dirthouse (Album Version)')\n",
      "Row(userid=85, firstname='Kinsley', lastname='Young', song='Overload')\n",
      "Row(userid=100, firstname='Adler', lastname='Barrera', song='New Divide (Album Version)')\n",
      "Row(userid=36, firstname='Matthew', lastname='Jones', song='Babies')\n",
      "Row(userid=40, firstname='Tucker', lastname='Garrison', song='Blue Orchid')\n",
      "Row(userid=68, firstname='Jordan', lastname='Rodriguez', song='The Day I Lost My Voice (The Suitcase Song)')\n",
      "Row(userid=38, firstname='Gianna', lastname='Jones', song='Look At Me')\n",
      "Row(userid=57, firstname='Katherine', lastname='Gay', song=\"Girl You Know It's True\")\n",
      "Row(userid=39, firstname='Walter', lastname='Frye', song='Beautiful Things')\n",
      "Row(userid=6, firstname='Cecilia', lastname='Owens', song='Falling Through Your Clothes')\n",
      "Row(userid=71, firstname='Ayleen', lastname='Wise', song='Ova Da Wudz')\n",
      "Row(userid=81, firstname='Sienna', lastname='Colon', song='Fade To Black')\n",
      "Row(userid=29, firstname='Jacqueline', lastname='Lynch', song='The Boy With The Thorn In His Side')\n",
      "Row(userid=64, firstname='Hannah', lastname='Calhoun', song='Loved By You')\n",
      "Row(userid=37, firstname='Jordan', lastname='Hicks', song='Goodbye_ Apathy')\n",
      "Row(userid=76, firstname='Jayden', lastname='Duffy', song=\"I'm On A Boat\")\n",
      "Row(userid=9, firstname='Wyatt', lastname='Scott', song='Under The Bridge (Album Version)')\n",
      "Row(userid=14, firstname='Theodore', lastname='Harris', song=\"It's New To Me\")\n",
      "Row(userid=56, firstname='Cienna', lastname='Freeman', song='The Penalty')\n",
      "Row(userid=26, firstname='Ryan', lastname='Smith', song='Empire State Of Mind (Part II) Broken Down')\n",
      "Row(userid=17, firstname='Makinley', lastname='Jones', song='Unbelievable (Amended Version)')\n",
      "Row(userid=35, firstname='Molly', lastname='Taylor', song=\"Wavin'  Flag\")\n",
      "Row(userid=48, firstname='Marina', lastname='Sutton', song='Mercy:The Laundromat')\n",
      "Row(userid=101, firstname='Jayden', lastname='Fox', song='Wild Man (featuring Big Chief Bo Dollis)')\n",
      "Row(userid=92, firstname='Ryann', lastname='Smith', song='Easily (Album Version)')\n",
      "Row(userid=62, firstname='Connar', lastname='Moreno', song='Eyen [Chosen by fans on Warp20.net]')\n",
      "Row(userid=24, firstname='Layla', lastname='Griffin', song=\"You're Gonna Make Me Lonesome When You Go\")\n",
      "Row(userid=32, firstname='Lily', lastname='Burns', song='Beautiful')\n",
      "Row(userid=41, firstname='Brayden', lastname='Clark', song='On Its Way Out')\n",
      "Row(userid=65, firstname='Amiya', lastname='Davidson', song='Man Makes The Zoo')\n",
      "Row(userid=97, firstname='Kate', lastname='Harrell', song='Chanson Sur Une Seule Note Samba De Uma Nota So')\n",
      "Row(userid=25, firstname='Jayden', lastname='Graves', song='No. 5')\n",
      "Row(userid=66, firstname='Kevin', lastname='Arellano', song='Nos Couleurs (Feat K Maro)')\n",
      "Row(userid=34, firstname='Evelin', lastname='Ayala', song='Shining Down [feat. Matthew Santos] (Amended Album Version)')\n",
      "Row(userid=87, firstname='Dustin', lastname='Lee', song='Welcome To The Black Parade (Album Version)')\n",
      "Row(userid=70, firstname='Jaleah', lastname='Hayes', song='Take 2 Blue')\n",
      "Row(userid=12, firstname='Austin', lastname='Rosales', song='Up Up & Away')\n",
      "Row(userid=90, firstname='Andrea', lastname='Butler', song='Cold night for alligators')\n",
      "Row(userid=77, firstname='Magdalene', lastname='Herman', song='Sample Track 2')\n",
      "Row(userid=3, firstname='Isaac', lastname='Valdez', song='Strasbourg')\n"
     ]
    }
   ],
   "source": [
    "## Getting user name (first and last) in my music app history who listened to the song 'All Hands Against His Own'\n",
    "\n",
    "query = \"SELECT firstName,lastName from table_final where song = 'All Hands Against His Own' ALLOW FILTERING\"\n",
    "#query = \"SELECT * from table_final\"\n",
    "try:\n",
    "    rows = session.execute(query)\n",
    "except Exception as e:\n",
    "    print(e)\n",
    "    \n",
    "for row in rows:\n",
    "    print (row)"
   ]
  },
  {
   "cell_type": "code",
   "execution_count": null,
   "metadata": {
    "editable": true
   },
   "outputs": [],
   "source": []
  },
  {
   "cell_type": "markdown",
   "metadata": {
    "editable": true
   },
   "source": [
    "### Drop the tables before closing out the sessions"
   ]
  },
  {
   "cell_type": "code",
   "execution_count": 207,
   "metadata": {
    "editable": true
   },
   "outputs": [],
   "source": [
    "## Dropping the three tables"
   ]
  },
  {
   "cell_type": "code",
   "execution_count": 15,
   "metadata": {
    "editable": true
   },
   "outputs": [
    {
     "name": "stdout",
     "output_type": "stream",
     "text": [
      "Error from server: code=2200 [Invalid query] message=\"unconfigured table table_final\"\n"
     ]
    }
   ],
   "source": [
    "query = \"drop table music_library\"\n",
    "try:\n",
    "    rows = session.execute(query)\n",
    "except Exception as e:\n",
    "    print(e)\n",
    "\n",
    "query = \"drop table artist_library\"\n",
    "try:\n",
    "    rows = session.execute(query)\n",
    "except Exception as e:\n",
    "    print(e)\n",
    "    \n",
    "query = \"drop table table_final\"\n",
    "try:\n",
    "    rows = session.execute(query)\n",
    "except Exception as e:\n",
    "    print(e)"
   ]
  },
  {
   "cell_type": "markdown",
   "metadata": {
    "editable": true
   },
   "source": [
    "### Close the session and cluster connection¶"
   ]
  },
  {
   "cell_type": "code",
   "execution_count": null,
   "metadata": {
    "editable": true
   },
   "outputs": [],
   "source": [
    "session.shutdown()\n",
    "cluster.shutdown()"
   ]
  },
  {
   "cell_type": "code",
   "execution_count": null,
   "metadata": {
    "editable": true
   },
   "outputs": [],
   "source": []
  },
  {
   "cell_type": "code",
   "execution_count": null,
   "metadata": {
    "editable": true
   },
   "outputs": [],
   "source": []
  }
 ],
 "metadata": {
  "kernelspec": {
   "display_name": "Python 3",
   "language": "python",
   "name": "python3"
  },
  "language_info": {
   "codemirror_mode": {
    "name": "ipython",
    "version": 3
   },
   "file_extension": ".py",
   "mimetype": "text/x-python",
   "name": "python",
   "nbconvert_exporter": "python",
   "pygments_lexer": "ipython3",
   "version": "3.6.3"
  }
 },
 "nbformat": 4,
 "nbformat_minor": 4
}
